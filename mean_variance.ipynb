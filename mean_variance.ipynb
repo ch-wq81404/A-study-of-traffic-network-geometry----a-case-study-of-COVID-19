{
 "cells": [
  {
   "cell_type": "code",
   "execution_count": 1,
   "metadata": {},
   "outputs": [],
   "source": [
    "import pandas as pd\n",
    "from pyecharts.charts import Scatter,Grid\n",
    "from pyecharts import options as opts"
   ]
  },
  {
   "cell_type": "code",
   "execution_count": 2,
   "metadata": {},
   "outputs": [],
   "source": [
    "cityID=pd.read_csv(\"data/流量数据/cityID.txt\",header=None,encoding=\"GB2312\",sep='\\s+')\n",
    "dmn=pd.read_csv('data/流量数据/city_dmn.txt',sep='\\s+',header=None,encoding='GB2312')\n",
    "dmn_after=pd.read_csv('data/流量数据/city_dmn_after.txt',sep='\\s+',header=None,encoding='GB2312')"
   ]
  },
  {
   "cell_type": "code",
   "execution_count": 3,
   "metadata": {},
   "outputs": [],
   "source": [
    "mean_before=[]\n",
    "f_before=[]\n",
    "for i in range(0,102):\n",
    "    bool_row_before=[False if j==999 else True for j in dmn[i]]\n",
    "    dmn_f=dmn.iloc[bool_row_before,i]\n",
    "    mean_before.append(dmn_f.mean())\n",
    "    f_before.append(dmn_f.var())"
   ]
  },
  {
   "cell_type": "code",
   "execution_count": 13,
   "metadata": {},
   "outputs": [
    {
     "name": "stdout",
     "output_type": "stream",
     "text": [
      "1\n",
      "2\n",
      "2\n",
      "71\n"
     ]
    },
    {
     "data": {
      "text/plain": [
       "5.941893959573457"
      ]
     },
     "execution_count": 13,
     "metadata": {},
     "output_type": "execute_result"
    }
   ],
   "source": [
    "Min=100\n",
    "for i in range(len(mean_before)):\n",
    "    if Min>mean_before[i] and mean_before[i]!=0:\n",
    "        Min=mean_before[i]\n",
    "        print(i)\n",
    "for i in range(len(f_before)):\n",
    "    if Min>f_before[i] and f_before[i]!='nan':\n",
    "        Min=f_before[i]\n",
    "        print(i)\n",
    "Min"
   ]
  },
  {
   "cell_type": "code",
   "execution_count": 14,
   "metadata": {},
   "outputs": [
    {
     "data": {
      "text/plain": [
       "'北京市'"
      ]
     },
     "execution_count": 14,
     "metadata": {},
     "output_type": "execute_result"
    }
   ],
   "source": [
    "cityID.iloc[2][1]"
   ]
  },
  {
   "cell_type": "code",
   "execution_count": 4,
   "metadata": {},
   "outputs": [],
   "source": [
    "mean_after=[]\n",
    "f_after=[]\n",
    "for i in range(0,102):\n",
    "    bool_row_after=[False if j==999 else True for j in dmn_after[i]]\n",
    "    dmn_f_after=dmn_after.iloc[bool_row_after,i]\n",
    "    mean_after.append(dmn_f_after.mean())\n",
    "    f_after.append(dmn_f_after.var())"
   ]
  },
  {
   "cell_type": "code",
   "execution_count": null,
   "metadata": {},
   "outputs": [],
   "source": []
  },
  {
   "cell_type": "code",
   "execution_count": 39,
   "metadata": {},
   "outputs": [
    {
     "data": {
      "text/plain": [
       "'I:\\\\biyesheji\\\\mean_f_after.html'"
      ]
     },
     "execution_count": 39,
     "metadata": {},
     "output_type": "execute_result"
    }
   ],
   "source": [
    "after=grid_scatter_visualmap_color(mean_after,f_after,\"After the closure of Wuhan\")\n",
    "after.render(path='mean_f_after.html')"
   ]
  },
  {
   "cell_type": "code",
   "execution_count": 43,
   "metadata": {},
   "outputs": [
    {
     "data": {
      "text/plain": [
       "'I:\\\\biyesheji\\\\mean_f_before.html'"
      ]
     },
     "execution_count": 43,
     "metadata": {},
     "output_type": "execute_result"
    }
   ],
   "source": [
    "before=scatter_visualmap_color(mean_before,f_before,\"Before the closure of Wuhan\")\n",
    "before.render(path='mean_f_before.html')"
   ]
  },
  {
   "cell_type": "code",
   "execution_count": 44,
   "metadata": {},
   "outputs": [
    {
     "data": {
      "text/plain": [
       "'I:\\\\biyesheji\\\\mean_f.html'"
      ]
     },
     "execution_count": 44,
     "metadata": {},
     "output_type": "execute_result"
    }
   ],
   "source": [
    "grid=(\n",
    "    Grid()\n",
    "    .add(before, grid_opts=opts.GridOpts(pos_bottom=\"60%\"))\n",
    "    .add(after, grid_opts=opts.GridOpts(pos_top=\"60%\"))\n",
    ")\n",
    "grid.render(path=\"mean_f.html\")"
   ]
  },
  {
   "cell_type": "code",
   "execution_count": 42,
   "metadata": {},
   "outputs": [],
   "source": [
    "#画图函数\n",
    "def scatter_visualmap_color(list2,data,label)->Scatter:\n",
    "    c=(\n",
    "        Scatter()\n",
    "        .add_xaxis(list2)\n",
    "        .add_yaxis(label,data,itemstyle_opts=opts.ItemStyleOpts(color='blue',border_color='#000000'),\n",
    "                  label_opts=opts.LabelOpts(\n",
    "                      is_show=False,\n",
    "                      font_weight=\"bolder\"\n",
    "                    ),\n",
    "        )\n",
    "        .set_series_opts(effect_opts=opts.EffectOpts(symbol_size=5, color=\"yellow\"),\n",
    "                        markpoint_opts=opts.MarkPointOpts(\n",
    "                            data=[opts.MarkPointItem(coord=[list2[71],data[71]],value=\"Wuhan\",\n",
    "                                                    itemstyle_opts=opts.ItemStyleOpts(\n",
    "                                                    color='red',border_color='#FF4500'))],\n",
    "                            symbol_size=[15,15],\n",
    "                            symbol='diamond',\n",
    "                            label_opts=opts.LabelOpts(is_show=True,position=\"bottom\", color=\"#000000\", font_size=15,\n",
    "                                                     )\n",
    "                                                            )\n",
    "                        )\n",
    "#         pos_top=\"35%\"\n",
    "        .set_global_opts(\n",
    "            legend_opts=opts.LegendOpts(pos_bottom=80,pos_right=100),\n",
    "            xaxis_opts = opts.AxisOpts(\n",
    "                          type_=\"value\",#x轴数据类型是连续型的\n",
    "                          min_=9,\n",
    "                name='μF',\n",
    "                name_location='middle',\n",
    "                name_gap=30\n",
    "                          ),\n",
    "            yaxis_opts = opts.AxisOpts(\n",
    "                          min_=4,\n",
    "                name='σF',\n",
    "                name_location='middle',\n",
    "                name_gap=30\n",
    "                          )\n",
    "        )\n",
    "    )\n",
    "    return c\n",
    "#画图函数\n",
    "def grid_scatter_visualmap_color(list2,data,label)->Scatter:\n",
    "    c=(\n",
    "        Scatter()\n",
    "        .add_xaxis(list2)\n",
    "        .add_yaxis(label,data,itemstyle_opts=opts.ItemStyleOpts(color='blue',border_color='#000000'),\n",
    "                  label_opts=opts.LabelOpts(\n",
    "                      is_show=False,\n",
    "                      font_weight=\"bolder\"\n",
    "                    ),\n",
    "        )\n",
    "        .set_series_opts(effect_opts=opts.EffectOpts(symbol_size=5, color=\"yellow\"),\n",
    "                        markpoint_opts=opts.MarkPointOpts(\n",
    "                            data=[opts.MarkPointItem(coord=[list2[71],data[71]],value=\"Wuhan\",\n",
    "                                                    itemstyle_opts=opts.ItemStyleOpts(\n",
    "                                                    color='red',border_color='#FF4500'))],\n",
    "                            symbol_size=[15,15],\n",
    "                            symbol='diamond',\n",
    "                            label_opts=opts.LabelOpts(is_show=True,position=\"bottom\", color=\"#000000\", font_size=15,\n",
    "                                                     )\n",
    "                                                            )\n",
    "                        )\n",
    "        .set_global_opts(\n",
    "            legend_opts=opts.LegendOpts(pos_right=100,pos_bottom=\"12%\"),\n",
    "            xaxis_opts = opts.AxisOpts(\n",
    "                          type_=\"value\",#x轴数据类型是连续型的\n",
    "                          min_=9,\n",
    "                name='μF',\n",
    "                name_location='middle',\n",
    "                name_gap=30\n",
    "                          ),\n",
    "            yaxis_opts = opts.AxisOpts(\n",
    "                          min_=5,\n",
    "                name='σF',\n",
    "                name_location='middle',\n",
    "                name_gap=30\n",
    "                          )\n",
    "        )\n",
    "    )\n",
    "    return c\n"
   ]
  },
  {
   "cell_type": "markdown",
   "metadata": {},
   "source": [
    "<code>dmn_f.iloc[][]</code>方括号中是连续的行列号<br />\n",
    "<code>dmn_f.loc[][]</code>方括号中是不一定连续的索引号或标签"
   ]
  },
  {
   "cell_type": "code",
   "execution_count": null,
   "metadata": {},
   "outputs": [],
   "source": []
  }
 ],
 "metadata": {
  "kernelspec": {
   "display_name": "Python 3",
   "language": "python",
   "name": "python3"
  },
  "language_info": {
   "codemirror_mode": {
    "name": "ipython",
    "version": 3
   },
   "file_extension": ".py",
   "mimetype": "text/x-python",
   "name": "python",
   "nbconvert_exporter": "python",
   "pygments_lexer": "ipython3",
   "version": "3.6.5"
  }
 },
 "nbformat": 4,
 "nbformat_minor": 2
}
