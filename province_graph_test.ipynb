{
 "cells": [
  {
   "cell_type": "code",
   "execution_count": 1,
   "metadata": {
    "scrolled": true
   },
   "outputs": [],
   "source": [
    "import pandas as pd\n",
    "import numpy as np\n",
    "import math\n",
    "import random\n",
    "from collections import defaultdict\n",
    "from pyecharts.render import make_snapshot\n",
    "from pyecharts.charts import Scatter,Grid,Line\n",
    "from pyecharts.commons.utils import JsCode\n",
    "from pyecharts import options as opts\n"
   ]
  },
  {
   "cell_type": "code",
   "execution_count": 20,
   "metadata": {
    "scrolled": true
   },
   "outputs": [],
   "source": [
    "def Dijkstra(G,v0,INF=999):\n",
    "    \"\"\" \n",
    "        使用 Dijkstra 算法计算指定点 v0 到图 G 中任意点的最短路径的距离        \n",
    "        INF 为设定的无限远距离值        \n",
    "        此方法不能解决负权值边的图    \n",
    "    \"\"\"\n",
    "    book = set()\n",
    "    minv = v0   # 源顶点到其余各顶点的初始路程\n",
    "    dis = dict((k,INF) for k in G.keys())\n",
    "    dis[v0] = 0 \n",
    "    while len(book)<len(G):\n",
    "        book.add(minv)  # 确定当期顶点的距离\n",
    "        for w in G[minv]:   # 以当前点的中心向外扩散\n",
    "            if(G[minv][w]>0):\n",
    "                dmn=1-math.log(G[minv][w])\n",
    "                if dis[minv] + dmn < dis[w]:# 如果从当前点扩展到某一点的距离小与已知最短距离      \n",
    "                    dis[w] = dis[minv] + dmn         # 对已知距离进行更新\n",
    "        new =INF    # 从剩下的未确定点中选择最小距离点作为新的扩散点\n",
    "        minv=-1\n",
    "        for v in dis.keys():\n",
    "            if v in book: continue\n",
    "            if dis[v] < new: \n",
    "                new = dis[v]\n",
    "                minv = v\n",
    "        if minv==-1:\n",
    "            return dis\n",
    "    return dis"
   ]
  },
  {
   "cell_type": "code",
   "execution_count": 2,
   "metadata": {},
   "outputs": [],
   "source": [
    "#画图函数\n",
    "def scatter_visualmap_color(list2,data,corr_dis_time,province)->Scatter:\n",
    "    c=(\n",
    "        Scatter()\n",
    "        .add_xaxis(list2)\n",
    "        .add_yaxis(\"首例病例出现时间\",data[[2,1]].values.tolist(),\n",
    "                  label_opts=opts.LabelOpts(\n",
    "                        formatter=JsCode(\n",
    "                            \"function(params){return params.value[2];}\" #通过定义JavaScript回调函数自定义标签\n",
    "                        )\n",
    "                    ),\n",
    "        )\n",
    "        .set_series_opts(effect_opts=opts.EffectOpts(symbol_size=5, color=\"yellow\"),)\n",
    "        .set_global_opts(\n",
    "            title_opts=opts.TitleOpts(title=\"首例病例出现时间与实际距离的关系\",\n",
    "                                      subtitle=\"相关系数=\"+str(corr_dis_time),\n",
    "                                     pos_left='center'),\n",
    "            legend_opts=opts.LegendOpts(pos_right=40,pos_top=15),\n",
    "            xaxis_opts = opts.AxisOpts(\n",
    "                          type_=\"value\",#x轴数据类型是连续型的\n",
    "                          min_=0,\n",
    "                name='距'+province+'实际距离',\n",
    "                name_location='middle'\n",
    "                          ),\n",
    "            yaxis_opts = opts.AxisOpts(\n",
    "                          min_=5, \n",
    "                name='出现时间/天',\n",
    "                          )\n",
    "        )\n",
    "    )\n",
    "    return c\n",
    "def grid_scatter_visualmap_color(list2,data,corr_dis_time,province)->Scatter:\n",
    "    c=(\n",
    "        Scatter()\n",
    "        .add_xaxis(list2)\n",
    "        .add_yaxis(\"首例病例出现时间\",data[[2,1]].values.tolist(),\n",
    "                   \n",
    "                  label_opts=opts.LabelOpts(\n",
    "                        formatter=JsCode(\n",
    "                            \"function(params){return params.value[2];}\" #通过定义JavaScript回调函数自定义标签\n",
    "                        )\n",
    "                    ),\n",
    "        )\n",
    "        .set_series_opts(effect_opts=opts.EffectOpts(symbol_size=5, color=\"yellow\"),)\n",
    "        .set_global_opts(\n",
    "            title_opts=opts.TitleOpts(title=\"首例病例出现时间与实际距离的关系\",\n",
    "                                      subtitle=\"相关系数=\"+str(corr_dis_time),\n",
    "                                     pos_left='center', pos_top=\"48%\"),\n",
    "            legend_opts=opts.LegendOpts(pos_right=40,pos_top=\"48%\"),\n",
    "#             visualmap_opts=opts.VisualMapOpts(type_=\"size\", max_=30, min_=0),\n",
    "            xaxis_opts = opts.AxisOpts(\n",
    "                          type_=\"value\",#x轴数据类型是连续型的\n",
    "                          min_=0,\n",
    "                name='距'+province+'实际距离',\n",
    "                name_location='middle'\n",
    "                          ),\n",
    "            yaxis_opts = opts.AxisOpts(\n",
    "                          min_=0,      #y轴范围最小为700\n",
    "                name='出现时间/天'\n",
    "                          )\n",
    "        )\n",
    "    )\n",
    "    return c\n",
    "def fitting_line(x,y) -> Line:\n",
    "    line=(\n",
    "        Line()\n",
    "        .add_xaxis(x)\n",
    "        .add_yaxis(\"拟合线\",y,linestyle_opts=opts.LineStyleOpts(color=\"green\", width=4, type_=\"dashed\"),\n",
    "                  label_opts=opts.LabelOpts(is_show=False))\n",
    "    )\n",
    "    return line"
   ]
  },
  {
   "cell_type": "markdown",
   "metadata": {},
   "source": [
    "<code>[(10, random.randint(1, 100)) for i in range(10)]</code>\n",
    "*****\n",
    "<font color='#adacad'>#随机生成序列，包含**十个**元素\n",
    "#在极坐标系图中，data数据类型\n",
    "##元组中第一项为*ρ\\*，第二项为*角度\\*\n",
    "******\n",
    "例如：<code>s=[(graphs.iloc[i][0],graphs.iloc[i][1]) for i in range(0,10)]</code>\n",
    "s为graphs的前十行前两列</font>"
   ]
  },
  {
   "cell_type": "code",
   "execution_count": null,
   "metadata": {
    "scrolled": true
   },
   "outputs": [],
   "source": [
    "# #测试时间线图，可用于建立疫情地图\n",
    "\n",
    "# from pyecharts.faker import Faker\n",
    "# from pyecharts import options as opts\n",
    "# from pyecharts.charts import Bar, Page, Pie, Timeline\n",
    "\n",
    "\n",
    "# def timeline_bar() -> Timeline:\n",
    "#     x = Faker.choose()\n",
    "#     tl = Timeline()\n",
    "#     for i in range(2015, 2020):\n",
    "#         bar = (\n",
    "#             Bar()\n",
    "#             .add_xaxis(x)\n",
    "#             .add_yaxis(\"商家A\", Faker.values())\n",
    "#             .add_yaxis(\"商家B\", Faker.values())\n",
    "#             .set_global_opts(title_opts=opts.TitleOpts(\"某商店{}年营业额\".format(i)))\n",
    "#         )\n",
    "#         tl.add(bar, \"{}年\".format(i))\n",
    "#     return tl\n",
    "# timeline_bar().render(path='test_timeline.html')"
   ]
  },
  {
   "cell_type": "code",
   "execution_count": 3,
   "metadata": {},
   "outputs": [],
   "source": [
    "#各省首例病例出现时间，湖北省为第零天\n",
    "first_day=pd.read_csv('data/流量数据/province.txt',sep='\\s+',header=None,encoding='GB2312')\n",
    "dmn=pd.read_csv('data/流量数据/province_dmn.txt',sep='\\s+',header=None,encoding='GB2312')\n",
    "gmn=pd.read_csv('data/流量数据/province_gmn.txt',sep='\\s+',header=None,encoding='GB2312')"
   ]
  },
  {
   "cell_type": "code",
   "execution_count": 4,
   "metadata": {},
   "outputs": [],
   "source": [
    "# # 湖北与其他省份的有效距离与实际距离。首例时间\n",
    "# gmn_hb=pd.Series(gmn.iloc[:,0])\n",
    "# dmn_hb=pd.Series(dmn.iloc[:,0])\n",
    "# time=pd.Series(first_day[2])\n",
    "\n",
    "# d_k,d_b= np.polyfit(dmn_hb, time, 1)\n",
    "# g_k,g_b=np.polyfit(gmn_hb,time,1)\n",
    "\n",
    "# #计算以有效距离,实际距离为回归变量的相对残差 \n",
    "# R_d=0\n",
    "# for i in range(0,len(dmn_hb)):\n",
    "#     if(time[i]==0):continue\n",
    "#     R_d+=((time[i]-dmn_hb[i]*d_k-d_b)/time[i])**2\n",
    "# #     R_d+=abs(time[i]-dmn_hb[i]*d_k-d_b)/time[i]\n",
    "# R_g=0\n",
    "# for i in range(0,len(gmn_hb)):\n",
    "#     if(time[i]==0):continue\n",
    "#     R_g+=((time[i]-gmn_hb[i]*g_k-g_b)/time[i])**2\n",
    "# #     R_g+=abs(time[i]-gmn_hb[i]*g_k-g_b)/time[i]\n",
    "# R_d, R_g\n",
    "# #(0.5074412202166079, 0.5102267883303312)\n",
    "# # 相差不大，猜测是因为数据太少，且两省之间的距离实际上是两省会之间的距离，不够准确"
   ]
  },
  {
   "cell_type": "code",
   "execution_count": 21,
   "metadata": {},
   "outputs": [
    {
     "data": {
      "text/plain": [
       "0.78638"
      ]
     },
     "execution_count": 21,
     "metadata": {},
     "output_type": "execute_result"
    }
   ],
   "source": [
    "# 湖北省和各省之间在武汉封城前的有效路径\n",
    "# graphs2=pd.read_csv(\"data/流量数据/province-flux-before.txt\",sep=\"\\s+\",header=None)\n",
    "# pID=pd.read_csv('data/流量数据/provinceID.txt',sep='\\s+',header=None,encoding='GB2312')\n",
    "\n",
    "# d2= defaultdict(defaultdict) #图\n",
    "# dmn = defaultdict(defaultdict) #有效路径\n",
    "\n",
    "# for i in range(0,len(pID)):  #插入对角线元素\n",
    "#     d2[i][i]=0\n",
    "# for i in range(0,len(graphs2)):\n",
    "#     d2[graphs2.iloc[i][0]][graphs2.iloc[i][1]]=graphs2.iloc[i][2]\n",
    "\n",
    "# # 计算有效距离与首例病例出现时间的相关性    \n",
    "# dis2=Dijkstra(d2,v0=0)\n",
    "# list2=list(dis2.values())\n",
    "# dis2=pd.Series(dis2)\n",
    "# time=pd.Series(first_day[2])\n",
    "# corr_dis_time=round(dis2.corr(time),5)\n",
    "# z1 = np.polyfit(dis2, time, 1)  #一次多项式拟合，相当于线性拟合\n",
    "# # p1 = np.poly1d(z1)\n",
    "# line=fitting_line([0,10],[z1[1],z1[0]*10+z1[1]])\n",
    "# # # 生成图片\n",
    "# graph_wh=scatter_visualmap_color(list2,first_day,corr_dis_time,'湖北省')\n",
    "# # graph_wh.render(path='test_map_7.html')\n",
    "# graph_wh.overlap(line)\n",
    "# graph_wh.render(path='test_map_7_fitting.html')"
   ]
  },
  {
   "cell_type": "code",
   "execution_count": null,
   "metadata": {},
   "outputs": [],
   "source": [
    "#广东省和各省之间在武汉封城前的有效路径，并计算有效距离与首例病例出现时间的相关性,生成图片\n",
    "# dis_gd=Dijkstra(d2,v0=3)\n",
    "# list_gd=list(dis_gd.values())\n",
    "# dis_gd=pd.Series(dis_gd)\n",
    "# corr_dis_time_gd=round(dis_gd.corr(time),5)\n",
    "# graph_gd=grid_scatter_visualmap_color(list_gd,first_day,corr_dis_time_gd,\"广东省\")\n",
    "# graph_gd.render(path='test_gd.html')"
   ]
  },
  {
   "cell_type": "code",
   "execution_count": null,
   "metadata": {},
   "outputs": [],
   "source": [
    "#将两幅图组合在一起\n",
    "# grid=(\n",
    "#     Grid()\n",
    "#     .add(graph_wh, grid_opts=opts.GridOpts(pos_bottom=\"60%\"))\n",
    "#     .add(graph_gd, grid_opts=opts.GridOpts(pos_top=\"60%\"))\n",
    "# )\n",
    "# grid.render(path=\"test_wh_gd.html\")"
   ]
  },
  {
   "cell_type": "code",
   "execution_count": 21,
   "metadata": {},
   "outputs": [],
   "source": [
    "#各省之间在武汉封城前的有效路径，输出为txt文件\n",
    "# for i in range(0,len(pID)):\n",
    "#     dmn[i]=Dijkstra(d2,v0=i)\n",
    "    \n",
    "# dmn=pd.DataFrame(dmn)\n",
    "# dmn.head()\n",
    "# dmn.to_csv('data/流量数据/province_dmn.txt',sep='\\t',index=False,header=None)"
   ]
  },
  {
   "cell_type": "code",
   "execution_count": 7,
   "metadata": {},
   "outputs": [],
   "source": [
    "#查询每个省的经纬度并保存为文件province information.txt\n",
    "# import requests\n",
    "# #使用高德API-地理/逆地理编码:https://lbs.amap.com/api/webservice/guide/api/georegeo\n",
    "# def geocodeG(address):\n",
    "#     key = '07ac12a00f830764ebfdee2fd0bc96fd'\n",
    "#     par = {'address': address, 'key': key}\n",
    "#     base = 'http://restapi.amap.com/v3/geocode/geo'\n",
    "#     response = requests.get(base, par)\n",
    "#     answer = response.json()\n",
    "#     return answer['geocodes'][0]['location']\n",
    "\n",
    "# lng_lat=[[0 for j in range(0,3)]for i in range(0,len(pID))] #初始化\n",
    "\n",
    "# for i in range(0,len(pID)):\n",
    "#     address=pID.iloc[i][1]\n",
    "#     lng_lat[i][0]=address\n",
    "#     temp=geocodeG(address).split(',')\n",
    "#     lng_lat[i][1]=temp[0]\n",
    "#     lng_lat[i][2]=temp[1]\n",
    "\n",
    "# lng_lat=pd.DataFrame(lng_lat)\n",
    "# lng_lat.to_csv('data/流量数据/province information.txt',sep='\\t',index=False,header=None)\n",
    "\n",
    "#根据经纬度计算距离,并输出为province_gmn.txt\n",
    "\n",
    "# from math import radians, cos, sin, asin, sqrt\n",
    "# def geodistance(lng1,lat1,lng2,lat2):\n",
    "#     lng1,lat1,lng2,lat2=map(radians,[float(lng1),float(lat1),float(lng2),float(lat2)])\n",
    "#     dlon=lng2-lng1\n",
    "#     dlat=lat2-lat1\n",
    "#     a=sin(dlat/2)**2+cos(lat1)*cos(lat2)*sin(dlon/2)**2\n",
    "#     distance=2*asin(sqrt(a))*6371*1000\n",
    "#     distance=round(distance/1000,3)\n",
    "#     return distance\n",
    "\n",
    "# gmn=[[0 for i in range(0,len(pID))] for i in range(0,len(pID))] #实际地理距离初始化\n",
    "\n",
    "# gmn=[[geodistance(lng_lat.iloc[i][1],lng_lat.iloc[i][2],lng_lat.iloc[j][1],lng_lat.iloc[j][2]) for j in range(0,len(pID))]for i in range(0,len(pID))]\n",
    "\n",
    "# gmn=pd.DataFrame(gmn)\n",
    "\n",
    "# gmn.to_csv('data/流量数据/province_gmn.txt',sep='\\t',index=False,header=None)\n",
    "# gmn.head()"
   ]
  },
  {
   "cell_type": "code",
   "execution_count": 5,
   "metadata": {},
   "outputs": [
    {
     "data": {
      "text/plain": [
       "'I:\\\\biyesheji\\\\test_hb_g_fitting.html'"
      ]
     },
     "execution_count": 5,
     "metadata": {},
     "output_type": "execute_result"
    }
   ],
   "source": [
    "#湖北省的首例病历出现时间&其与其他省的实际距离的关系图,相关系数\n",
    "time=pd.Series(first_day[2])  #时间\n",
    "gmn_hb=pd.Series(gmn.iloc[0])\n",
    "corr_g_time_hb=round(gmn_hb.corr(time),5)\n",
    "z1 = np.polyfit(gmn_hb, time, 1)  #一次多项式拟合，相当于线性拟合\n",
    "line=fitting_line([0,3000],[z1[1],z1[0]*3000+z1[1]])\n",
    "# 生成图片\n",
    "graph_hb=scatter_visualmap_color(gmn_hb,first_day,corr_g_time_hb,'湖北省')\n",
    "graph_hb.render(path='test_hb_g.html')\n",
    "graph_hb.overlap(line)\n",
    "graph_hb.render(path='test_hb_g_fitting.html')"
   ]
  },
  {
   "cell_type": "code",
   "execution_count": null,
   "metadata": {
    "scrolled": true
   },
   "outputs": [],
   "source": [
    "# # 湖北省和各省之间在武汉封城后的有效路径\n",
    "# graphs3=pd.read_csv(\"data/流量数据/province-flux-after.txt\",sep=\"\\s+\",header=None)\n",
    "\n",
    "# d3= defaultdict(defaultdict)\n",
    "\n",
    "# for i in range(0,len(pID)):  #插入对角线元素\n",
    "#     d3[i][i]=0\n",
    "# for i in range(0,len(graphs3)):\n",
    "#     d3[graphs3.iloc[i][0]][graphs3.iloc[i][1]]=graphs3.iloc[i][2]\n",
    "# dis3=Dijkstra(d3,v0=5)\n",
    "# dis3"
   ]
  }
 ],
 "metadata": {
  "kernelspec": {
   "display_name": "Python 3",
   "language": "python",
   "name": "python3"
  },
  "language_info": {
   "codemirror_mode": {
    "name": "ipython",
    "version": 3
   },
   "file_extension": ".py",
   "mimetype": "text/x-python",
   "name": "python",
   "nbconvert_exporter": "python",
   "pygments_lexer": "ipython3",
   "version": "3.6.5"
  }
 },
 "nbformat": 4,
 "nbformat_minor": 2
}
