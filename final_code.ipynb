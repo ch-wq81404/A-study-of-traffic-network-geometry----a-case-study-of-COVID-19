{
 "cells": [
  {
   "cell_type": "markdown",
   "metadata": {},
   "source": [
    "<font size=5>地图标注流量图</font>\n",
    "**********\n",
    "1.流量图1为**各省**之间的交通流量图<br />\n",
    "2.流量图2为**武汉市**到其他各市的交通流量图，抵达市的名称已显示，名称颜色由该市常住人口数决定"
   ]
  },
  {
   "cell_type": "code",
   "execution_count": 1,
   "metadata": {},
   "outputs": [],
   "source": [
    "# coding: utf-8\n",
    "from pyecharts import options as opts\n",
    "from pyecharts.charts import Geo,Pie\n",
    "from pyecharts.globals import ChartType, SymbolType,GeoType\n",
    "import numpy as np\n",
    "from pandas import Series,DataFrame\n",
    "import pandas as pd\n",
    "from pyecharts.render import make_snapshot\n",
    "# 使用snapshot-selenium 渲染图片\n",
    "from snapshot_selenium import snapshot\n",
    "# 链式调用"
   ]
  },
  {
   "cell_type": "code",
   "execution_count": null,
   "metadata": {
    "scrolled": true
   },
   "outputs": [],
   "source": [
    "#简单的测试\n",
    "\n",
    "\n",
    "from pyecharts.faker import Faker\n",
    "from pyecharts import options as opts\n",
    "from pyecharts.charts import Geo\n",
    "from pyecharts.globals import ChartType, SymbolType\n",
    "\n",
    "\n",
    "def geo_base() -> Geo:\n",
    "    c = (\n",
    "        Geo()\n",
    "        .add_schema(maptype=\"china\")\n",
    "        .add(\"geo\", [list(z) for z in zip(Faker.provinces, Faker.values())])\n",
    "        .set_series_opts(label_opts=opts.LabelOpts(is_show=True,formatter=\"{b}\"))\n",
    "        .set_global_opts(\n",
    "            visualmap_opts=opts.VisualMapOpts(),\n",
    "            title_opts=opts.TitleOpts(title=\"Geo-基本示例\"),\n",
    "        )\n",
    "        .render_notebook()\n",
    "    )\n",
    "    return c\n",
    "geo_base()"
   ]
  },
  {
   "cell_type": "code",
   "execution_count": 2,
   "metadata": {},
   "outputs": [
    {
     "data": {
      "text/plain": [
       "'I:\\\\biyesheji\\\\test_map_6.html'"
      ]
     },
     "execution_count": 2,
     "metadata": {},
     "output_type": "execute_result"
    }
   ],
   "source": [
    "# 流量图2：武汉出发可达城市流量图\n",
    "\n",
    "lines2=[]\n",
    "column=['head','tail','data']\n",
    "# map2=pd.read_csv('data/流量数据/city-flux-before.txt',sep='\\s+',header=None,encoding ='GB2312')\n",
    "map2=pd.read_csv('data/流量数据/cityflux-fengchengqian122.txt',sep='\\s+',header=None,encoding ='GB2312')\n",
    "map2.columns=column\n",
    "# value2=map2.loc[:,2]\n",
    "# id2=pd.read_csv('data/流量数据/city information.txt',sep='\\s+',header=None,encoding ='GB2312')\n",
    "id2=pd.read_csv('data/流量数据/city informationEng.txt',sep='\\s+',header=None,encoding ='GB2312')\n",
    "temp=map2.loc[map2['head']==72]\n",
    "series=temp['tail'].unique()    #武汉市可达城市经纬度\n",
    "long_lat=[]    #武汉市可达城市人口数据\n",
    "for i in range(1,len(series)):\n",
    "    long_lat.append((id2.iloc[series[i], 1],id2.iloc[series[i], 2]))\n",
    "\n",
    "# print(len(long_lat))\n",
    "geo2 = Geo(init_opts = {\"width\":1600})\n",
    "geo2.add_schema(maptype=\"china\")\n",
    "geo2.add_coordinate(\"Wuhan\",114.30525, 30.59276)\n",
    "for i in range(1,len(series)):\n",
    "    geo2.add_coordinate(name=id2.iloc[series[i], 1], longitude=id2.iloc[series[i], 4], latitude=id2.iloc[series[i], 5])  #标点\n",
    "geo2.add(\"\",long_lat,type_=ChartType.SCATTER,color='#A9A9A9',\n",
    "         label_opts=opts.LabelOpts(is_show=True,formatter=\"{b}\"))\n",
    "for i in range(1,len(temp)):\n",
    "    line=(id2.iloc[temp.iloc[i,0],1],id2.iloc[temp.iloc[i,1],1])\n",
    "    lines2.append(line)\n",
    "geo2.add('Wuhan', lines2,type_=GeoType.LINES,color='#A9A9A9',\n",
    "            effect_opts=opts.EffectOpts(symbol=SymbolType.ARROW, symbol_size=0, color=\"yellow\"),\n",
    "            linestyle_opts=opts.LineStyleOpts(curve=0.2),label_opts=None\n",
    "            )\n",
    "geo2.set_global_opts(visualmap_opts=opts.VisualMapOpts(is_piecewise=True,max_=1200,min_=0))\n",
    "# geo2.render_notebook() title_opts=opts.TitleOpts(title=\"mygeo\"),   \n",
    "geo2.render(path=\"test_map_6.html\")"
   ]
  },
  {
   "cell_type": "code",
   "execution_count": 2,
   "metadata": {},
   "outputs": [
    {
     "data": {
      "text/plain": [
       "'I:\\\\biyesheji\\\\test_map_5.html'"
      ]
     },
     "execution_count": 2,
     "metadata": {},
     "output_type": "execute_result"
    }
   ],
   "source": [
    "#流量图1：省际交通流量图\n",
    "\n",
    "\n",
    "colors=['#DCDCDC','#A9A9A9','#000000','#BC8F8F','#A0522D','#CD853F','#D2B48C','#DEB887','#BDB76B','#DAADAA','#B0C4DE','#708090','#87CEFA','#DB7093','#D8BFD8',\n",
    "       '#483D8B','#8FBC8F','#8FBC8F','#D2B48C','#F5F5F5','#B0E0E6','#ADD8E6','#F0F8FF','#8B008B','#DDA0DD','#FFC0CB','#C71585','#D3D3D3','#808080','#A0522D','#FFEFD5']\n",
    "column=['head','tail','data']\n",
    "map1=pd.read_csv('data/province-flux-before.txt',sep='\\s+',header=None,encoding ='GB2312')\n",
    "map1.columns=column\n",
    "lines=[]\n",
    "\n",
    "# value=map1.loc[:,2]\n",
    "id1=pd.read_csv('data/provinceID.txt',sep='\\s+',header=None,encoding ='GB2312')\n",
    "geo = Geo(init_opts = {\"width\":1600})\n",
    "for i in range(0, len(id1)):\n",
    "    geo.add_coordinate(name=id1.iloc[i, 1], longitude=id1.iloc[i, 2], latitude=id1.iloc[i, 3])\n",
    "# 添加数据项\n",
    "series1=[]\n",
    "for i in range(0,len(id1)):\n",
    "    series1.append((id1.iloc[i,1],i))\n",
    "geo.add_schema(maptype=\"china\")\n",
    "geo.add(\"\",series1,type_=ChartType.SCATTER,color='#A0522D',label_opts=opts.LabelOpts(is_show=True,formatter=\"{b}\"))\n",
    "# print(map1.loc[map1['head']==0])\n",
    "for j in range(0,30):\n",
    "    temp=map1.loc[map1['head']==j]\n",
    "    for i in range(1, len(temp)):\n",
    "        line=(id1.iloc[temp.iloc[i,0],1],id1.iloc[temp.iloc[i,1],1])\n",
    "        lines.append(line)\n",
    "    labels=id1.iloc[j, 1]\n",
    "    geo.add(labels, lines,\n",
    "            type_=GeoType.LINES,color=colors[j],\n",
    "            effect_opts=opts.EffectOpts(symbol=SymbolType.ARROW, symbol_size=0, color=\"yellow\"),\n",
    "            linestyle_opts=opts.LineStyleOpts(curve=0.2),label_opts=None\n",
    "            )\n",
    "    lines=[]\n",
    "    labels=\"\"\n",
    "\n",
    "# geo.set_series_opts(label_opts=opts.LabelOpts(is_show=True))\n",
    "geo.set_global_opts(title_opts=opts.TitleOpts(title=\"mygeo\"),\n",
    "                   legend_opts=opts.LegendOpts(type_=\"scroll\"))\n",
    "# geo.render_notebook()    \n",
    "geo.render(path=\"test_map_5.html\")\n"
   ]
  },
  {
   "cell_type": "code",
   "execution_count": null,
   "metadata": {},
   "outputs": [],
   "source": []
  }
 ],
 "metadata": {
  "kernelspec": {
   "display_name": "Python 3",
   "language": "python",
   "name": "python3"
  },
  "language_info": {
   "codemirror_mode": {
    "name": "ipython",
    "version": 3
   },
   "file_extension": ".py",
   "mimetype": "text/x-python",
   "name": "python",
   "nbconvert_exporter": "python",
   "pygments_lexer": "ipython3",
   "version": "3.6.5"
  }
 },
 "nbformat": 4,
 "nbformat_minor": 2
}
